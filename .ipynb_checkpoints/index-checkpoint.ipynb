{
 "cells": [
  {
   "cell_type": "markdown",
   "metadata": {},
   "source": [
    "# Graficos com Python"
   ]
  },
  {
   "cell_type": "code",
   "execution_count": 1,
   "metadata": {},
   "outputs": [
    {
     "data": {
      "application/vnd.jupyter.widget-view+json": {
       "model_id": "4c3108b5433942928a71126021d1bd16",
       "version_major": 2,
       "version_minor": 0
      },
      "text/plain": [
       "Label(value='Número 1: ')"
      ]
     },
     "metadata": {},
     "output_type": "display_data"
    },
    {
     "data": {
      "application/vnd.jupyter.widget-view+json": {
       "model_id": "3e4a198a8fa740699ebf4e5351d303a9",
       "version_major": 2,
       "version_minor": 0
      },
      "text/plain": [
       "Text(value='')"
      ]
     },
     "metadata": {},
     "output_type": "display_data"
    },
    {
     "data": {
      "application/vnd.jupyter.widget-view+json": {
       "model_id": "ffacb6b05801420c99e21dc47f0d83dd",
       "version_major": 2,
       "version_minor": 0
      },
      "text/plain": [
       "Label(value='Número 2: ')"
      ]
     },
     "metadata": {},
     "output_type": "display_data"
    },
    {
     "data": {
      "application/vnd.jupyter.widget-view+json": {
       "model_id": "578d51ef25ed407cba175714de31ff37",
       "version_major": 2,
       "version_minor": 0
      },
      "text/plain": [
       "Text(value='')"
      ]
     },
     "metadata": {},
     "output_type": "display_data"
    },
    {
     "data": {
      "application/vnd.jupyter.widget-view+json": {
       "model_id": "42fa31ff02ef4682a8a514a5c3948576",
       "version_major": 2,
       "version_minor": 0
      },
      "text/plain": [
       "Button(description='Multiplicação', style=ButtonStyle())"
      ]
     },
     "metadata": {},
     "output_type": "display_data"
    },
    {
     "data": {
      "application/vnd.jupyter.widget-view+json": {
       "model_id": "60d3d55bcc9344ae811c83d9752255cc",
       "version_major": 2,
       "version_minor": 0
      },
      "text/plain": [
       "Label(value='Resultado: ')"
      ]
     },
     "metadata": {},
     "output_type": "display_data"
    }
   ],
   "source": [
    "from ipywidgets import widgets\n",
    "l1 = widgets.Label(\"Número 1: \")\n",
    "l2 = widgets.Label(\"Número 2: \")\n",
    "l3 = widgets.Label(\"Resultado: \")\n",
    "t1 = widgets.Text()\n",
    "t2 = widgets.Text()\n",
    "btn = widgets.Button(description=\"Multiplicação\")\n",
    "def mult(b):\n",
    "  x = int(t1.value)\n",
    "  y = int(t2.value)\n",
    "  l3.value = 'Resultado: ' + str(x * y)\n",
    "btn.on_click(mult)\n",
    "display(l1, t1, l2, t2, btn, l3)"
   ]
  },
  {
   "cell_type": "code",
   "execution_count": null,
   "metadata": {},
   "outputs": [],
   "source": []
  }
 ],
 "metadata": {
  "kernelspec": {
   "display_name": "Python 3 (ipykernel)",
   "language": "python",
   "name": "python3"
  },
  "language_info": {
   "codemirror_mode": {
    "name": "ipython",
    "version": 3
   },
   "file_extension": ".py",
   "mimetype": "text/x-python",
   "name": "python",
   "nbconvert_exporter": "python",
   "pygments_lexer": "ipython3",
   "version": "3.11.3"
  }
 },
 "nbformat": 4,
 "nbformat_minor": 4
}
