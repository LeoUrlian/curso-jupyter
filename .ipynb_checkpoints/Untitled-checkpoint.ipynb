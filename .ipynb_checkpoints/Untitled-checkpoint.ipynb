{
 "cells": [
  {
   "cell_type": "markdown",
   "id": "528358fa-1cd7-4a33-94d1-a228acaf5aee",
   "metadata": {},
   "source": [
    "## Testando Jupyterlab"
   ]
  },
  {
   "cell_type": "code",
   "execution_count": null,
   "id": "49422bbb-23d0-4bd0-8913-e606cb27f23b",
   "metadata": {},
   "outputs": [],
   "source": [
    "import matplotlib.pyplot as plt\n",
    "from matplotlib_venn import venn2\n",
    "%matplotlib inline\n",
    "\n",
    "venn2(subsets=(15, 6, 8), set_labels=(\"Grupo 1\", \"Grupo 2\"))"
   ]
  }
 ],
 "metadata": {
  "kernelspec": {
   "display_name": "Python 3 (ipykernel)",
   "language": "python",
   "name": "python3"
  },
  "language_info": {
   "codemirror_mode": {
    "name": "ipython",
    "version": 3
   },
   "file_extension": ".py",
   "mimetype": "text/x-python",
   "name": "python",
   "nbconvert_exporter": "python",
   "pygments_lexer": "ipython3",
   "version": "3.11.3"
  }
 },
 "nbformat": 4,
 "nbformat_minor": 5
}
